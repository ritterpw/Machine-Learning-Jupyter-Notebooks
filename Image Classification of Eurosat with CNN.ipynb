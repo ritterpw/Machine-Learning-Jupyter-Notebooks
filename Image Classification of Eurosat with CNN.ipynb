{
  "nbformat": 4,
  "nbformat_minor": 0,
  "metadata": {
    "colab": {
      "name": "real_updated_copy_of_Final_Project_480_Eurosat.ipynb",
      "provenance": [],
      "collapsed_sections": []
    },
    "kernelspec": {
      "name": "python3",
      "display_name": "Python 3"
    },
    "accelerator": "GPU"
  },
  "cells": [
    {
      "cell_type": "markdown",
      "metadata": {
        "id": "ZwmhrvPK6MrA"
      },
      "source": [
        "## Eurosat Classification Model\n",
        "- Paul Ritter\n",
        "- Connor Hite\n",
        "- Matt Gish"
      ]
    },
    {
      "cell_type": "markdown",
      "metadata": {
        "id": "bDgxtJ3j6YpK"
      },
      "source": [
        "### Installation of Tensorflow datasets and matplotlib"
      ]
    },
    {
      "cell_type": "code",
      "metadata": {
        "id": "ZWCh3ZsNJQqG"
      },
      "source": [
        "!pip install -q tfds-nightly tensorflow matplotlib"
      ],
      "execution_count": null,
      "outputs": []
    },
    {
      "cell_type": "markdown",
      "metadata": {
        "id": "NLEIiudz6kLD"
      },
      "source": [
        "### Imports"
      ]
    },
    {
      "cell_type": "code",
      "metadata": {
        "id": "ABNHjLooDY-A"
      },
      "source": [
        "import matplotlib.pyplot as plt\n",
        "import numpy as np\n",
        "import tensorflow as tf\n",
        "import tensorflow_datasets as tfds\n",
        "import keras as keras\n",
        "from tensorflow.keras import datasets, layers, models \n",
        "import tensorflow as tf\n",
        "from tensorflow import keras\n",
        "\n",
        "import IPython\n",
        "!pip install -q -U keras-tuner\n",
        "import kerastuner as kt\n"
      ],
      "execution_count": null,
      "outputs": []
    },
    {
      "cell_type": "markdown",
      "metadata": {
        "id": "Vlkcr6OK6hGF"
      },
      "source": [
        "### Loading the dataset and resizing the train test split"
      ]
    },
    {
      "cell_type": "code",
      "metadata": {
        "id": "_UXIL_FQDcZ4"
      },
      "source": [
        "image, label = tfds.as_numpy(tfds.load(\n",
        "    'eurosat',\n",
        "    split='train', \n",
        "    batch_size=-1, \n",
        "    as_supervised=True,\n",
        "    shuffle_files=True\n",
        "))\n",
        "\n",
        "images_train, labels_train = [image[:21600], label[:21600]]\n",
        "\n",
        "images_test, labels_test = [image[21600:], label[21600:]]\n",
        "\n",
        "\n",
        "# \n",
        "images_train, images_test = images_train / 255.0, images_test / 255.0\n",
        "\n",
        "print(images_train.shape)\n",
        "print(labels_train.shape)\n",
        "print(len(images_test))\n",
        "print(len(labels_test))\n",
        "\n"
      ],
      "execution_count": null,
      "outputs": []
    },
    {
      "cell_type": "markdown",
      "metadata": {
        "id": "MyJh8lnhjCXA"
      },
      "source": [
        "## Plot first 5 Images"
      ]
    },
    {
      "cell_type": "code",
      "metadata": {
        "id": "qO3v4v32OOL7"
      },
      "source": [
        "class_names = ['AnnualCrop','Forest', 'HerbaceousVegetation', 'Highway', \n",
        "'Industrial', 'Pasture', 'PermanentCrop', 'Residential', 'River', 'SeaLake' ]\n",
        "\n",
        "print(class_names)\n",
        "\n",
        "plt.figure(figsize=(10,10))\n",
        "for i in range(15):\n",
        "  plt.subplot(5,5,i+1)\n",
        "  plt.xticks([])\n",
        "  plt.yticks([])\n",
        "  plt.grid(False)\n",
        "  plt.imshow(images_train[i], cmap=plt.cm.binary)\n",
        "  plt.xlabel(class_names[labels_train[i]])\n",
        "plt.show()"
      ],
      "execution_count": null,
      "outputs": []
    },
    {
      "cell_type": "markdown",
      "metadata": {
        "id": "RFA0SiYusF4T"
      },
      "source": [
        "### Define CNN Model"
      ]
    },
    {
      "cell_type": "code",
      "metadata": {
        "id": "azA3N3QtPbGA"
      },
      "source": [
        "model = models.Sequential()\n",
        "model.add(layers.Conv2D(8, 3, activation='relu', input_shape=(64, 64, 3))),\n",
        "model.add(layers.MaxPooling2D()),\n",
        "model.add(layers.Conv2D(16, 3, activation='relu' )),\n",
        "model.add(layers.MaxPooling2D()),\n",
        "model.add(layers.Conv2D(32, 3, activation='relu')),\n",
        "model.add(layers.MaxPooling2D()),\n",
        "model.add(layers.Conv2D(64, 3, activation='relu')),\n",
        "model.add(layers.MaxPooling2D()),\n",
        "#model.add(layers.MaxPooling2D()),\n",
        "model.add(layers.GlobalAveragePooling2D()),\n",
        "#model.add(layers.Flatten()), #GlobalAveragePooling2D----------\n",
        "model.add(layers.Dense(128, activation='relu')),\n",
        "model.add(layers.Dropout(rate= 0.2)),\n",
        "model.add(layers.Dense(10))"
      ],
      "execution_count": null,
      "outputs": []
    },
    {
      "cell_type": "code",
      "metadata": {
        "id": "jSEmDhVHQpjm"
      },
      "source": [
        "model.summary()"
      ],
      "execution_count": null,
      "outputs": []
    },
    {
      "cell_type": "markdown",
      "metadata": {
        "id": "qRfWlBBk67Gg"
      },
      "source": [
        "### Model Compilation "
      ]
    },
    {
      "cell_type": "code",
      "metadata": {
        "id": "rbqSsfbM7q8P"
      },
      "source": [
        "model.compile(optimizer=tf.keras.optimizers.Adam(lr=0.001),\n",
        "              loss=tf.keras.losses.SparseCategoricalCrossentropy(from_logits=True),\n",
        "              metrics=['accuracy'])\n"
      ],
      "execution_count": null,
      "outputs": []
    },
    {
      "cell_type": "markdown",
      "metadata": {
        "id": "mCNsW-4T7AQ7"
      },
      "source": [
        "### Model Fit and Evaluation"
      ]
    },
    {
      "cell_type": "code",
      "metadata": {
        "id": "sE1XqjOs7sxT"
      },
      "source": [
        "history = model.fit(images_train,\n",
        "                    labels_train,\n",
        "                    epochs=30,\n",
        "                    validation_data=(images_test, labels_test))\n"
      ],
      "execution_count": null,
      "outputs": []
    },
    {
      "cell_type": "code",
      "metadata": {
        "id": "Ut5GXAkvyJ9S"
      },
      "source": [
        "plt.plot(history.history['accuracy'], label='accuracy') \n",
        "plt.plot(history.history['val_accuracy'], \n",
        "         label = 'val_accuracy') \n",
        "plt.xlabel('Epoch')\n",
        "plt.ylabel('Accuracy')\n",
        "plt.ylim([0.5, 1]) \n",
        "plt.legend(loc='lower right')\n",
        "test_loss, test_acc = model.evaluate(images_test, labels_test, verbose=2) \n",
        "print(test_acc)"
      ],
      "execution_count": null,
      "outputs": []
    },
    {
      "cell_type": "markdown",
      "source": [
        "# Trying out Keras Tuner\n"
      ],
      "metadata": {
        "id": "yjflwUT9JdYv"
      }
    },
    {
      "cell_type": "code",
      "metadata": {
        "id": "_rkN642JFHcF"
      },
      "source": [
        "from kerastuner.tuners import RandomSearch\n",
        "from kerastuner.engine.hyperparameters import HyperParameters"
      ],
      "execution_count": null,
      "outputs": []
    },
    {
      "cell_type": "code",
      "metadata": {
        "id": "04Q86ZHnU9OB"
      },
      "source": [
        "def build_model(hp):\n",
        "  model = models.Sequential()\n",
        "  model.add(layers.Conv2D(64, activation='relu', kernel_size=3, input_shape=(64, 64, 3))),\n",
        "  model.add(layers.MaxPooling2D()),\n",
        "  model.add(layers.Conv2D(224, 3, activation='relu' )),\n",
        "  model.add(layers.MaxPooling2D()),\n",
        "  model.add(layers.Conv2D(64, 3, activation='relu')),\n",
        "  model.add(layers.MaxPooling2D()),\n",
        "  model.add(layers.Conv2D(32, 3, activation='relu')),\n",
        "  model.add(layers.MaxPooling2D()),\n",
        "  #model.add(layers.MaxPooling2D()),\n",
        "  model.add(layers.GlobalAveragePooling2D()),\n",
        "  #model.add(layers.Flatten()), #GlobalAveragePooling2D----------\n",
        "  model.add(layers.Dense(192, activation='relu')),\n",
        "  model.add(layers.Dropout(rate= 0.2)),\n",
        "  model.add(layers.Dense(10))\n",
        "  #hp_learning_rate = hp.Choice('learning_rate', values = [1e-2, 1e-3, 1e-4, 1e-5]) \n",
        "  model.compile(optimizer=tf.keras.optimizers.Adam(learning_rate = 0.001),\n",
        "              loss=tf.keras.losses.SparseCategoricalCrossentropy(from_logits=True),\n",
        "              metrics=['accuracy'])\n",
        "  return model\n"
      ],
      "execution_count": null,
      "outputs": []
    },
    {
      "cell_type": "code",
      "metadata": {
        "id": "P3cBNVwV4GKO"
      },
      "source": [
        "tuner= RandomSearch(\n",
        "    build_model,\n",
        "    objective=\"val_accuracy\",\n",
        "    max_trials=50,\n",
        "    executions_per_trial=2,\n",
        "    directory = 'presentation4'\n",
        "    )"
      ],
      "execution_count": null,
      "outputs": []
    },
    {
      "cell_type": "code",
      "metadata": {
        "id": "dORsnvBd_dBP"
      },
      "source": [
        "tuner.search(x=images_train,\n",
        "             y=labels_train,\n",
        "             epochs=30,\n",
        "             validation_data=(images_test, labels_test))"
      ],
      "execution_count": null,
      "outputs": []
    },
    {
      "cell_type": "code",
      "metadata": {
        "id": "ttpltRqIQELB"
      },
      "source": [
        "class ClearTrainingOutput(tf.keras.callbacks.Callback):\n",
        "  def on_train_end(*args, **kwargs):\n",
        "    IPython.display.clear_output(wait = True)"
      ],
      "execution_count": null,
      "outputs": []
    },
    {
      "cell_type": "code",
      "metadata": {
        "id": "xxLz3FUCQKWH"
      },
      "source": [
        "tuner.search(images_train, labels_train, epochs = 30, validation_data = (images_test, labels_test), callbacks = [ClearTrainingOutput()])\n",
        "\n",
        "# Get the optimal hyperparameters\n",
        "best_hps = tuner.get_best_hyperparameters(num_trials = 5)[0]\n",
        "\n",
        "#print(f\"\"\"\n",
        "#The hyperparameter search is complete. The optimal number of units in the first densely-connected\n",
        "#layer is {best_hps.get('units')} and the optimal learning rate for the optimizer\n",
        "#is {best_hps.get('learning_rate')}.\n",
        "#\"\"\")\n",
        "tuner.results_summary()"
      ],
      "execution_count": null,
      "outputs": []
    },
    {
      "cell_type": "markdown",
      "metadata": {
        "id": "IeLLT2dC1NSM"
      },
      "source": [
        "End of Presentation "
      ]
    },
    {
      "cell_type": "code",
      "metadata": {
        "id": "HDpUQMmSanBj"
      },
      "source": [
        "from kerastuner.tuners import RandomSearch\n",
        "from kerastuner.engine.hyperparameters import HyperParameters"
      ],
      "execution_count": null,
      "outputs": []
    },
    {
      "cell_type": "code",
      "metadata": {
        "id": "K1n4VVucZvMw"
      },
      "source": [
        "def build_model(hp):\n",
        "  model = models.Sequential()\n",
        "  model.add(layers.Conv2D(hp.Int('units', 32,256,32), activation='relu', kernel_size=3, input_shape=(64, 64, 3))),\n",
        "  model.add(layers.MaxPooling2D()),\n",
        "  model.add(layers.Conv2D(16, 3, activation='relu' )),\n",
        "  model.add(layers.MaxPooling2D()),\n",
        "  model.add(layers.Conv2D(32, 3, activation='relu')),\n",
        "  model.add(layers.MaxPooling2D()),\n",
        "  model.add(layers.Conv2D(64, 3, activation='relu')),\n",
        "  model.add(layers.MaxPooling2D()),\n",
        "  #model.add(layers.MaxPooling2D()),\n",
        "  model.add(layers.GlobalAveragePooling2D()),\n",
        "  #model.add(layers.Flatten()), #GlobalAveragePooling2D----------\n",
        "  model.add(layers.Dense(128, activation='relu')),\n",
        "  model.add(layers.Dropout(rate= 0.2)),\n",
        "  model.add(layers.Dense(10))\n",
        "  hp_learning_rate = hp.Choice('learning_rate', values = [1e-2, 1e-3, 1e-4]) \n",
        "  model.compile(optimizer=tf.keras.optimizers.Adam(learning_rate = hp_learning_rate),\n",
        "              loss=tf.keras.losses.SparseCategoricalCrossentropy(from_logits=True),\n",
        "              metrics=['accuracy'])\n",
        "  return model"
      ],
      "execution_count": null,
      "outputs": []
    },
    {
      "cell_type": "code",
      "metadata": {
        "id": "Nv6g9iKAae1y"
      },
      "source": [
        "tuner= RandomSearch(\n",
        "    build_model,\n",
        "    objective=\"val_accuracy\",\n",
        "    max_trials=1,\n",
        "    executions_per_trial=3,\n",
        "    directory = 'my_dir'\n",
        "    )"
      ],
      "execution_count": null,
      "outputs": []
    },
    {
      "cell_type": "code",
      "metadata": {
        "id": "FIn-JNNMafFD"
      },
      "source": [
        "tuner.search(x=images_train,\n",
        "             y=labels_train,\n",
        "             epochs=10,\n",
        "             validation_data=(images_test, labels_test))"
      ],
      "execution_count": null,
      "outputs": []
    },
    {
      "cell_type": "code",
      "metadata": {
        "id": "7xCBFKdMafUr"
      },
      "source": [
        "class ClearTrainingOutput(tf.keras.callbacks.Callback):\n",
        "  def on_train_end(*args, **kwargs):\n",
        "    IPython.display.clear_output(wait = True)"
      ],
      "execution_count": null,
      "outputs": []
    },
    {
      "cell_type": "code",
      "metadata": {
        "id": "0O9YnLR3avk6"
      },
      "source": [
        "tuner.search(images_train, labels_train, epochs = 10, validation_data = (images_test, labels_test), callbacks = [ClearTrainingOutput()])\n",
        "\n",
        "# Get the optimal hyperparameters\n",
        "best_hps = tuner.get_best_hyperparameters(num_trials = 1)[0]\n",
        "\n",
        "#print(f\"\"\"\n",
        "#The hyperparameter search is complete. The optimal number of units in the first densely-connected\n",
        "#layer is {best_hps.get('units')} and the optimal learning rate for the optimizer\n",
        "#is {best_hps.get('learning_rate')}.\n",
        "#\"\"\")\n",
        "tuner.results_summary()"
      ],
      "execution_count": null,
      "outputs": []
    }
  ]
}