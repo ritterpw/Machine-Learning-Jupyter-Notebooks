{
  "nbformat": 4,
  "nbformat_minor": 0,
  "metadata": {
    "colab": {
      "name": "Paul_Ritter_LAB-7_Dense_Neural_Network_With_TF2.x_Keras.ipynb",
      "provenance": [],
      "collapsed_sections": []
    },
    "kernelspec": {
      "name": "python3",
      "display_name": "Python 3"
    }
  },
  "cells": [
    {
      "cell_type": "markdown",
      "metadata": {
        "id": "-VAhuxLlqsaK"
      },
      "source": [
        "# **ISAT 449 - Emerging Topics in Applied Data Science**\n",
        "### Using TensorFlow 2.x Keras Layers\n",
        "## Building a Dense Neural Network with TensorFlow 2.x Keras\n",
        "\n",
        "The previous lesson was just to get you used to the learning environment and the concepts involved in building machine learning models. Now, in this part, let's really see the power andease of use in builing more sophisticated models with the TensorFlow 2.x implementation of Keras, tf.keras\n",
        "\n",
        "## **Learning Objectives**\n",
        "\n",
        "\n",
        "\n",
        "*   Learn how to build a Dense neural networks with TensorFlow 2.x and Keras\n",
        "*   Learn different appraches to stacking layers or artificial neurons to build multi-layer machine learning models\n",
        "*   Construct models for Linear regression and classification\n",
        "*   Train the model on NumPy generated data\n",
        "*   Create simple datasets for exploring model architectures\n",
        "*   Use the model's history to plot the loss and accuracy during training\n",
        "*   Check the model's accuracy with your test data\n",
        "\n",
        "### **Let's import tensorflow and some helper modules**\n"
      ]
    },
    {
      "cell_type": "code",
      "metadata": {
        "id": "Km7E3fj5p7Sv",
        "outputId": "c7869885-ed01-40ae-9f6b-ad00dfcc54b7",
        "colab": {
          "base_uri": "https://localhost:8080/"
        }
      },
      "source": [
        "import numpy as np\n",
        "import tensorflow as tf \n",
        "import matplotlib.pyplot as plt\n",
        "import pandas as pd\n",
        "print(\"Tensorflow Version:\", tf.__version__)"
      ],
      "execution_count": 1,
      "outputs": [
        {
          "output_type": "stream",
          "name": "stdout",
          "text": [
            "Tensorflow Version: 2.7.0\n"
          ]
        }
      ]
    },
    {
      "cell_type": "markdown",
      "metadata": {
        "id": "fwzXkEBTtPj8"
      },
      "source": [
        "## **Dense Models**\n",
        "### **Sequential model**\n",
        "\n",
        "In Keras, you assemble layers to build models. A model is (usually) a stack or graph of layers. The most common type of model is a stack of layers: the tf.keras.Sequential model.  Let's use the tf.keras.Sequential model build a simple, fully-connected feed-forward neural network (i.e. multi-layer perceptron) which is also called a Dense neural network. tf.keras has several ways of building models. \n",
        "\n",
        "Below we illustrate two of the methods for building neural networks with tf.keras\n",
        "\n",
        "### **Method 1- Explicitly Creating and Stacking the layers in a Python List**\n",
        "\n",
        "Using the Python lists explicitly as we did in the last lesson emphasized the core sequential nature of building models with tf.keras\n",
        "\n",
        "### **Practice Problem 1: Build a Dense neural Network for Regression**\n",
        "\n",
        "Let's build a model of a fully-connected feed-forward neural network (i.e. multi-layer perceptron) also called a Dense neural network. The tf.keras Sequential class is used to implement the feed-forward neural network. We will build a regression model using a Dense network and numpy generated data.\n",
        "\n",
        "## **Generate some data using NumPy**\n",
        "\n",
        "For illustrative purposes, let's also create in-memory, small, NumPy generated dataset arrays to train and evaluate our model.\n",
        "\n"
      ]
    },
    {
      "cell_type": "code",
      "metadata": {
        "id": "LYzrAFxLtLlN"
      },
      "source": [
        "#Generate a 2-D array with 1000 rows, each row containing 5 random floats from 0 to 1\n",
        "x_train = np.random.normal(size =(1000, 5))\n",
        "#Generate a 1-D array containing 1000 random integers from 0 to 5\n",
        "y_train = np.random.randint(2, size=1000)\n",
        "#Generate a 2-D array with 100 rows, each row containing 5 random floats from 0 to 1\n",
        "x_test = np.random.normal(size = (100,5))\n",
        "#Generate a 1-D array containing 100 random integers from 0 to 5\n",
        "y_test = np.random.randint(2, size = (100))\n",
        "#y_train"
      ],
      "execution_count": 2,
      "outputs": []
    },
    {
      "cell_type": "markdown",
      "metadata": {
        "id": "TFvnzP2OiD_j"
      },
      "source": [
        "### tf.keras needs the the shape of the input feature array"
      ]
    },
    {
      "cell_type": "code",
      "metadata": {
        "id": "E15vpJEFv7Nh",
        "outputId": "682c522f-52ba-46c1-c860-50448c26b135",
        "colab": {
          "base_uri": "https://localhost:8080/"
        }
      },
      "source": [
        "# quick way to get input shape for tensorflow-keras \n",
        "x_train.shape[1:]\n",
        "\n",
        "input_shape = x_train.shape[1:]\n",
        "\n",
        "print('input shape of the feature matrix is: ', input_shape)"
      ],
      "execution_count": 3,
      "outputs": [
        {
          "output_type": "stream",
          "name": "stdout",
          "text": [
            "input shape of the feature matrix is:  (5,)\n"
          ]
        }
      ]
    },
    {
      "cell_type": "markdown",
      "metadata": {
        "id": "i9Q5xkzHh8yG"
      },
      "source": [
        "## **Create the layers**"
      ]
    },
    {
      "cell_type": "code",
      "metadata": {
        "id": "F_UpqPqYwCtB"
      },
      "source": [
        "# the input layer to the model informs it of the shape of you features dataset\n",
        "l0 = tf.keras.layers.Dense(units = 32, input_shape = input_shape) # output layer has 32 neurons\n",
        "\n",
        "# Adds a densely-connected layer with 16 units to the model:\n",
        "l1 = tf.keras.layers.Dense(units = 16, activation = 'relu')\n",
        "\n",
        "# Adds another densely-connected layer with 1 units to the model\n",
        "l2 = tf.keras.layers.Dense(units = 1) #regression. this output layer has no activation function!"
      ],
      "execution_count": 4,
      "outputs": []
    },
    {
      "cell_type": "markdown",
      "metadata": {
        "id": "KWjZT6cQicdU"
      },
      "source": [
        "## **Assemble the layers**"
      ]
    },
    {
      "cell_type": "code",
      "metadata": {
        "id": "QwoNtWRmwpC7"
      },
      "source": [
        "# build the Sequential model as a list. recall, the elements in a list are indexed according to\n",
        "# a definite sequence(ordered!) and the indexing of a list begins with 0 being the first index.\n",
        "model = tf.keras.Sequential([l0, l1, l2])"
      ],
      "execution_count": 5,
      "outputs": []
    },
    {
      "cell_type": "markdown",
      "metadata": {
        "id": "0YUXEh16jNLv"
      },
      "source": [
        "## **Compile and Train the Model**"
      ]
    },
    {
      "cell_type": "code",
      "metadata": {
        "id": "sn8H9Aopw3cA",
        "outputId": "c9bfe919-dfb8-41d4-e5f3-7a8b243de5d3",
        "colab": {
          "base_uri": "https://localhost:8080/"
        }
      },
      "source": [
        "#compile the model\n",
        "model.compile(optimizer= 'SGD',\n",
        "              loss = 'mse',\n",
        "              metrics = ['accuracy'])\n",
        "\n",
        "# train the model by calling the fit method \n",
        "history = model.fit(x_train, y_train, validation_split=0.1, epochs=5, verbose = 1) #use 10% of training set for validation"
      ],
      "execution_count": 6,
      "outputs": [
        {
          "output_type": "stream",
          "name": "stdout",
          "text": [
            "Epoch 1/5\n",
            "29/29 [==============================] - 1s 12ms/step - loss: 0.4576 - accuracy: 0.5022 - val_loss: 0.3293 - val_accuracy: 0.4100\n",
            "Epoch 2/5\n",
            "29/29 [==============================] - 0s 3ms/step - loss: 0.2921 - accuracy: 0.5156 - val_loss: 0.3034 - val_accuracy: 0.4300\n",
            "Epoch 3/5\n",
            "29/29 [==============================] - 0s 4ms/step - loss: 0.2773 - accuracy: 0.5267 - val_loss: 0.2914 - val_accuracy: 0.4400\n",
            "Epoch 4/5\n",
            "29/29 [==============================] - 0s 4ms/step - loss: 0.2689 - accuracy: 0.5200 - val_loss: 0.2796 - val_accuracy: 0.4400\n",
            "Epoch 5/5\n",
            "29/29 [==============================] - 0s 4ms/step - loss: 0.2631 - accuracy: 0.5211 - val_loss: 0.2705 - val_accuracy: 0.4500\n"
          ]
        }
      ]
    },
    {
      "cell_type": "markdown",
      "metadata": {
        "id": "5ShygkvXj2D6"
      },
      "source": [
        "## **Display metrics**"
      ]
    },
    {
      "cell_type": "code",
      "metadata": {
        "id": "Uf5DxhHqx_TP",
        "outputId": "aee4133f-a3b0-4304-87a0-16f22377a3a4",
        "colab": {
          "base_uri": "https://localhost:8080/",
          "height": 205
        }
      },
      "source": [
        "# printing model metrics\n",
        "hist = pd.DataFrame(history.history)\n",
        "hist['epoch'] = history.epoch\n",
        "hist.tail()"
      ],
      "execution_count": 7,
      "outputs": [
        {
          "output_type": "execute_result",
          "data": {
            "text/html": [
              "\n",
              "  <div id=\"df-2e4f0434-e2b3-4de0-820f-e2fd56200a7b\">\n",
              "    <div class=\"colab-df-container\">\n",
              "      <div>\n",
              "<style scoped>\n",
              "    .dataframe tbody tr th:only-of-type {\n",
              "        vertical-align: middle;\n",
              "    }\n",
              "\n",
              "    .dataframe tbody tr th {\n",
              "        vertical-align: top;\n",
              "    }\n",
              "\n",
              "    .dataframe thead th {\n",
              "        text-align: right;\n",
              "    }\n",
              "</style>\n",
              "<table border=\"1\" class=\"dataframe\">\n",
              "  <thead>\n",
              "    <tr style=\"text-align: right;\">\n",
              "      <th></th>\n",
              "      <th>loss</th>\n",
              "      <th>accuracy</th>\n",
              "      <th>val_loss</th>\n",
              "      <th>val_accuracy</th>\n",
              "      <th>epoch</th>\n",
              "    </tr>\n",
              "  </thead>\n",
              "  <tbody>\n",
              "    <tr>\n",
              "      <th>0</th>\n",
              "      <td>0.457552</td>\n",
              "      <td>0.502222</td>\n",
              "      <td>0.329283</td>\n",
              "      <td>0.41</td>\n",
              "      <td>0</td>\n",
              "    </tr>\n",
              "    <tr>\n",
              "      <th>1</th>\n",
              "      <td>0.292102</td>\n",
              "      <td>0.515556</td>\n",
              "      <td>0.303402</td>\n",
              "      <td>0.43</td>\n",
              "      <td>1</td>\n",
              "    </tr>\n",
              "    <tr>\n",
              "      <th>2</th>\n",
              "      <td>0.277269</td>\n",
              "      <td>0.526667</td>\n",
              "      <td>0.291357</td>\n",
              "      <td>0.44</td>\n",
              "      <td>2</td>\n",
              "    </tr>\n",
              "    <tr>\n",
              "      <th>3</th>\n",
              "      <td>0.268866</td>\n",
              "      <td>0.520000</td>\n",
              "      <td>0.279630</td>\n",
              "      <td>0.44</td>\n",
              "      <td>3</td>\n",
              "    </tr>\n",
              "    <tr>\n",
              "      <th>4</th>\n",
              "      <td>0.263077</td>\n",
              "      <td>0.521111</td>\n",
              "      <td>0.270493</td>\n",
              "      <td>0.45</td>\n",
              "      <td>4</td>\n",
              "    </tr>\n",
              "  </tbody>\n",
              "</table>\n",
              "</div>\n",
              "      <button class=\"colab-df-convert\" onclick=\"convertToInteractive('df-2e4f0434-e2b3-4de0-820f-e2fd56200a7b')\"\n",
              "              title=\"Convert this dataframe to an interactive table.\"\n",
              "              style=\"display:none;\">\n",
              "        \n",
              "  <svg xmlns=\"http://www.w3.org/2000/svg\" height=\"24px\"viewBox=\"0 0 24 24\"\n",
              "       width=\"24px\">\n",
              "    <path d=\"M0 0h24v24H0V0z\" fill=\"none\"/>\n",
              "    <path d=\"M18.56 5.44l.94 2.06.94-2.06 2.06-.94-2.06-.94-.94-2.06-.94 2.06-2.06.94zm-11 1L8.5 8.5l.94-2.06 2.06-.94-2.06-.94L8.5 2.5l-.94 2.06-2.06.94zm10 10l.94 2.06.94-2.06 2.06-.94-2.06-.94-.94-2.06-.94 2.06-2.06.94z\"/><path d=\"M17.41 7.96l-1.37-1.37c-.4-.4-.92-.59-1.43-.59-.52 0-1.04.2-1.43.59L10.3 9.45l-7.72 7.72c-.78.78-.78 2.05 0 2.83L4 21.41c.39.39.9.59 1.41.59.51 0 1.02-.2 1.41-.59l7.78-7.78 2.81-2.81c.8-.78.8-2.07 0-2.86zM5.41 20L4 18.59l7.72-7.72 1.47 1.35L5.41 20z\"/>\n",
              "  </svg>\n",
              "      </button>\n",
              "      \n",
              "  <style>\n",
              "    .colab-df-container {\n",
              "      display:flex;\n",
              "      flex-wrap:wrap;\n",
              "      gap: 12px;\n",
              "    }\n",
              "\n",
              "    .colab-df-convert {\n",
              "      background-color: #E8F0FE;\n",
              "      border: none;\n",
              "      border-radius: 50%;\n",
              "      cursor: pointer;\n",
              "      display: none;\n",
              "      fill: #1967D2;\n",
              "      height: 32px;\n",
              "      padding: 0 0 0 0;\n",
              "      width: 32px;\n",
              "    }\n",
              "\n",
              "    .colab-df-convert:hover {\n",
              "      background-color: #E2EBFA;\n",
              "      box-shadow: 0px 1px 2px rgba(60, 64, 67, 0.3), 0px 1px 3px 1px rgba(60, 64, 67, 0.15);\n",
              "      fill: #174EA6;\n",
              "    }\n",
              "\n",
              "    [theme=dark] .colab-df-convert {\n",
              "      background-color: #3B4455;\n",
              "      fill: #D2E3FC;\n",
              "    }\n",
              "\n",
              "    [theme=dark] .colab-df-convert:hover {\n",
              "      background-color: #434B5C;\n",
              "      box-shadow: 0px 1px 3px 1px rgba(0, 0, 0, 0.15);\n",
              "      filter: drop-shadow(0px 1px 2px rgba(0, 0, 0, 0.3));\n",
              "      fill: #FFFFFF;\n",
              "    }\n",
              "  </style>\n",
              "\n",
              "      <script>\n",
              "        const buttonEl =\n",
              "          document.querySelector('#df-2e4f0434-e2b3-4de0-820f-e2fd56200a7b button.colab-df-convert');\n",
              "        buttonEl.style.display =\n",
              "          google.colab.kernel.accessAllowed ? 'block' : 'none';\n",
              "\n",
              "        async function convertToInteractive(key) {\n",
              "          const element = document.querySelector('#df-2e4f0434-e2b3-4de0-820f-e2fd56200a7b');\n",
              "          const dataTable =\n",
              "            await google.colab.kernel.invokeFunction('convertToInteractive',\n",
              "                                                     [key], {});\n",
              "          if (!dataTable) return;\n",
              "\n",
              "          const docLinkHtml = 'Like what you see? Visit the ' +\n",
              "            '<a target=\"_blank\" href=https://colab.research.google.com/notebooks/data_table.ipynb>data table notebook</a>'\n",
              "            + ' to learn more about interactive tables.';\n",
              "          element.innerHTML = '';\n",
              "          dataTable['output_type'] = 'display_data';\n",
              "          await google.colab.output.renderOutput(dataTable, element);\n",
              "          const docLink = document.createElement('div');\n",
              "          docLink.innerHTML = docLinkHtml;\n",
              "          element.appendChild(docLink);\n",
              "        }\n",
              "      </script>\n",
              "    </div>\n",
              "  </div>\n",
              "  "
            ],
            "text/plain": [
              "       loss  accuracy  val_loss  val_accuracy  epoch\n",
              "0  0.457552  0.502222  0.329283          0.41      0\n",
              "1  0.292102  0.515556  0.303402          0.43      1\n",
              "2  0.277269  0.526667  0.291357          0.44      2\n",
              "3  0.268866  0.520000  0.279630          0.44      3\n",
              "4  0.263077  0.521111  0.270493          0.45      4"
            ]
          },
          "metadata": {},
          "execution_count": 7
        }
      ]
    },
    {
      "cell_type": "markdown",
      "metadata": {
        "id": "AOSaWvGikMHf"
      },
      "source": [
        "## **Plot loss**"
      ]
    },
    {
      "cell_type": "code",
      "metadata": {
        "id": "jp5Md829kSey",
        "outputId": "903bcc88-eb8a-4111-a747-92626c25113c",
        "colab": {
          "base_uri": "https://localhost:8080/",
          "height": 279
        }
      },
      "source": [
        "import matplotlib.pyplot as plt\n",
        "plt.xlabel('epoch')\n",
        "plt.ylabel(\"loss\")\n",
        "plt.plot(history.history['loss'])\n",
        "plt.show()"
      ],
      "execution_count": 8,
      "outputs": [
        {
          "output_type": "display_data",
          "data": {
            "image/png": "[encoded data removed]",
            "text/plain": [
              "<Figure size 432x288 with 1 Axes>"
            ]
          },
          "metadata": {
            "needs_background": "light"
          }
        }
      ]
    },
    {
      "cell_type": "markdown",
      "metadata": {
        "id": "0sF0xRhKkgXH"
      },
      "source": [
        "## **Evaluate the model**"
      ]
    },
    {
      "cell_type": "code",
      "metadata": {
        "id": "b8HtVsvJkmur",
        "outputId": "54abfb74-c2ed-4460-e00c-278e337c3423",
        "colab": {
          "base_uri": "https://localhost:8080/"
        }
      },
      "source": [
        "# Finally, let's compare how the model performs on the test dataset:\n",
        "test_loss,test_acc = model.evaluate(x_test,y_test,verbose=1)\n",
        "print('The test set loss is:{0:0.4f} and the test set accuracy is:{1:0.4}%'.format(test_loss,100*test_acc))"
      ],
      "execution_count": 9,
      "outputs": [
        {
          "output_type": "stream",
          "name": "stdout",
          "text": [
            "4/4 [==============================] - 0s 2ms/step - loss: 0.2781 - accuracy: 0.5200\n",
            "The test set loss is:0.2781 and the test set accuracy is:52.0%\n"
          ]
        }
      ]
    },
    {
      "cell_type": "markdown",
      "metadata": {
        "id": "L_svQ6vDkzaF"
      },
      "source": [
        "## **Make a prediction**"
      ]
    },
    {
      "cell_type": "code",
      "metadata": {
        "id": "s4sTpL5pk4Er",
        "outputId": "168226c1-b196-4c05-dfc1-d0ee32363ae9",
        "colab": {
          "base_uri": "https://localhost:8080/"
        }
      },
      "source": [
        "model.predict([[1,2,3,4,5]])\n",
        "#print(x_test[4:5])"
      ],
      "execution_count": 10,
      "outputs": [
        {
          "output_type": "execute_result",
          "data": {
            "text/plain": [
              "array([[1.3494017]], dtype=float32)"
            ]
          },
          "metadata": {},
          "execution_count": 10
        }
      ]
    },
    {
      "cell_type": "markdown",
      "metadata": {
        "id": "kaE4gsPEk-Uj"
      },
      "source": [
        "## **Comments**\n",
        "\n",
        "tf.keras.model.compile takes three important arguments:\n",
        "\n",
        "\n",
        "*   optimizer: This object specifies the training procedure. Pass it optimizer instances from the tf.train module, such as tf.train.AdamOptimizer, tf.train.RMSPropOptimizer, or tf.train.GradientDescentOptimizer.\n",
        "*   loss: The function to minimize during optimization. Common choices include mean square error (mse), categorical_crossentropy, and binary_crossentropy. Lossfunctions are specified by name or by passing a callable object from the tf.keras.losses module.\n",
        "*   metrics: Used to monitor training. These are string names or callables from the tf.keras.metrics module.\n",
        "\n",
        "\n",
        "\n",
        "\n"
      ]
    },
    {
      "cell_type": "markdown",
      "metadata": {
        "id": "0KfD9hUr1VDR"
      },
      "source": [
        "## **Method 2 - Create the Sequential model by passing a list of layer instances to the constructor**\n",
        "\n",
        "Previously we demonstated model building using a Python list such that:\n",
        "\n",
        "\n",
        "\n",
        "*   Each layer of units (neurons) could be created outside the Sequential Class\n",
        "*   Then they could all be passed to the Sequential model as a list in a linear stack of layers.\n",
        "*   When a model is created upon instantiation of the Sequential Class, this list is passed to its constructor as a list of layer instances\n",
        "\n",
        "There are several other methods to create and stack layers with tf.keras such as the .add() method. You should explore them! For the remainder of this course we the Sequential class with layer created inside the class. This is the one of the simplest and widely used approaches to quickly create and stack the layers of artificial neurons in dense networks. Let's use this approach to build a fully-connected network (i.e. multi-layer perceptron) feed- forward network (called a Dense Neural Network) to solve a simple binary classifcation problem.\n",
        "\n",
        "\n",
        "Practice Problem 2\n",
        "### **bold text**\n",
        "\n",
        "Build a machine learning model for **binary classification** that can classify colors into either red or blue based on the three RGB color channels, R (Red), G (Green), and B (Blue).\n",
        "\n",
        "### **Solution**\n",
        "\n",
        "*   It can be solved linearly(don't need hidden layers) but I chose to use one hidden layer.\n",
        "*   There will be a single neuron in the output layer with an activation function.\n",
        "*   The network architecture is easy to envision (draw it!)\n",
        "\n",
        "The workflow is:\n",
        "\n",
        "*   Create the training data (features and labels)\n",
        "*   Building and connect the neural networks layers\n",
        "*   Select loss function and optimizer to assess the prediction error\n",
        "*   Compile and train the model\n",
        "*   Use the model's history to plot the loss and accuracy during training\n",
        "*   Check the model's prediction accuracy with test data\n",
        "\n",
        "\n",
        "\n",
        "\n",
        "\n"
      ]
    },
    {
      "cell_type": "code",
      "metadata": {
        "id": "KxhHVxsK1Xz7",
        "outputId": "fd009b3c-9fa7-45d6-d4ba-5af13bf72b72",
        "colab": {
          "base_uri": "https://localhost:8080/"
        }
      },
      "source": [
        "import tensorflow as tf\n",
        "import numpy as np\n",
        "\n",
        "# Create training dataset  \n",
        "x_train = np.array([[255, 0,0],\n",
        "                    [248,80,68],\n",
        "                    [0,0,255],\n",
        "                    [67,15,210]], dtype='float')\n",
        "\n",
        "# Create training labels \n",
        "# y_train = np.array([1, 1, 0, 0],    dtype='float')\n",
        "y_train = np.array([[1], [1], [0], [0] ], dtype = 'float')\n",
        "\n",
        "# model has an input layer and a hidden and output layer, each with one neuron (units)\n",
        "model = tf.keras.models.Sequential([\n",
        "        tf.keras.layers.Dense(units = 10 , input_shape = (3,)),\n",
        "        tf.keras.layers.Dense(1, activation= 'sigmoid')\n",
        "])\n",
        "\n",
        "\n",
        "#compile the model\n",
        "learning_rate = 0.1\n",
        "model.compile(\n",
        "    optimizer = tf.keras.optimizers.RMSprop(lr = learning_rate),\n",
        "    loss = tf.keras.losses.binary_crossentropy,\n",
        "    metrics = ['accuracy']\n",
        ")\n",
        "\n",
        "#show model architecture\n",
        "model.summary()\n",
        "\n",
        "history = model.fit(x_train, y_train, epochs= 100, verbose = 0)\n",
        "\n",
        "test_set = [[248,80,68], [0,0,255]]\n",
        "\n",
        "print('The model predicts for the two inputs', model.predict(test_set))\n",
        "\n",
        "print('\\nThe expected value are: [1] for [248, 80, 68] and [0.0] for [0, 0, 255]')\n"
      ],
      "execution_count": 11,
      "outputs": [
        {
          "output_type": "stream",
          "name": "stdout",
          "text": [
            "Model: \"sequential_1\"\n",
            "_________________________________________________________________\n",
            " Layer (type)                Output Shape              Param #   \n",
            "=================================================================\n",
            " dense_3 (Dense)             (None, 10)                40        \n",
            "                                                                 \n",
            " dense_4 (Dense)             (None, 1)                 11        \n",
            "                                                                 \n",
            "=================================================================\n",
            "Total params: 51\n",
            "Trainable params: 51\n",
            "Non-trainable params: 0\n",
            "_________________________________________________________________\n"
          ]
        },
        {
          "output_type": "stream",
          "name": "stderr",
          "text": [
            "/usr/local/lib/python3.7/dist-packages/keras/optimizer_v2/rmsprop.py:130: UserWarning: The `lr` argument is deprecated, use `learning_rate` instead.\n",
            "  super(RMSprop, self).__init__(name, **kwargs)\n"
          ]
        },
        {
          "output_type": "stream",
          "name": "stdout",
          "text": [
            "The model predicts for the two inputs [[1.]\n",
            " [0.]]\n",
            "\n",
            "The expected value are: [1] for [248, 80, 68] and [0.0] for [0, 0, 255]\n"
          ]
        }
      ]
    },
    {
      "cell_type": "markdown",
      "metadata": {
        "id": "SYBsr851rWzR"
      },
      "source": [
        "### **Note**\n",
        "\n",
        "The binary cross-entropy is just a technical term for the cost function in the logistic regression, and the categorical cross-entropy is its generalization for multiclass predictions via softmax, which we will cover in the section estimating class probabilities in multiclass classification via the softmax function later in this course.\n",
        "\n",
        "So this simple model is performing quite well and you have now trained a simple binary classifier with ~98% accuracy on this very small dataset. However, you should not take the results to seriously because with a dataset this small, the model is very likely overfitting, i.e memorizing the pattern.\n",
        "\n",
        "### **Practice Problem 3: MNIST classification with TensorFlow and Keras!**"
      ]
    },
    {
      "cell_type": "code",
      "metadata": {
        "id": "QCd0pNmD2RcT",
        "outputId": "3274c5af-0f95-4170-cffd-af672c4937a5",
        "colab": {
          "base_uri": "https://localhost:8080/",
          "height": 368
        }
      },
      "source": [
        "import tensorflow as tf \n",
        "import matplotlib.pyplot as plt\n",
        "print('Tensorflow version:', tf.__version__)\n",
        "\n",
        "#get MNIST data from repo\n",
        "mnist=tf.keras.datasets.mnist\n",
        "\n",
        "#load mnist data\n",
        "(images_train, labels_train), (images_test, labels_test) = mnist.load_data()\n",
        "\n",
        "#normalize training set data\n",
        "images_train, images_test = images_train / 255.0, images_test / 255.0\n",
        "\n",
        "#create list of class names as strings\n",
        "class_names = ['zero', 'one', 'two', 'three', 'four', 'five', 'six',\n",
        "               'seven', 'eight', 'nine']\n",
        "\n",
        "# Note the input layer to the model. It consist of the image which gets flattened\n",
        "# into a one-dimensional vector (array) with 784 entries reprenting the pixel values\n",
        "model = tf.keras.Sequential([\n",
        "    tf.keras.layers.Flatten(input_shape = (28,28)), \n",
        "    tf.keras.layers.Dense(units = 512 , activation = 'relu'),\n",
        "    tf.keras.layers.Dense(units = 10, activation='softmax')\n",
        "])\n",
        "\n",
        "\n",
        "model.compile(\n",
        "    optimizer = 'adam',\n",
        "    loss = 'sparse_categorical_crossentropy',\n",
        "    metrics = ['accuracy']\n",
        ")\n",
        "\n",
        "model.fit(images_train, labels_train, epochs =1, verbose = 1)\n",
        "\n",
        "\n",
        "model.evaluate(images_test, labels_test)\n",
        "\n",
        "# make prediction\n",
        "print(model.predict(images_test[0].reshape(-1, 28,28)))\n",
        "\n",
        "#show image\n",
        "plt.imshow(images_test[0])\n",
        "\n",
        "\n",
        "\n"
      ],
      "execution_count": 13,
      "outputs": [
        {
          "output_type": "stream",
          "name": "stdout",
          "text": [
            "Tensorflow version: 2.7.0\n",
            "1875/1875 [==============================] - 8s 4ms/step - loss: 0.1994 - accuracy: 0.9412\n",
            "313/313 [==============================] - 1s 2ms/step - loss: 0.1158 - accuracy: 0.9650\n",
            "[[1.1078785e-05 7.5603680e-07 2.1593696e-04 1.6498623e-03 1.6641291e-08\n",
            "  9.0921949e-06 1.5002435e-09 9.9804688e-01 1.2337908e-06 6.5105312e-05]]\n"
          ]
        },
        {
          "output_type": "execute_result",
          "data": {
            "text/plain": [
              "<matplotlib.image.AxesImage at 0x7f11314dec10>"
            ]
          },
          "metadata": {},
          "execution_count": 13
        },
        {
          "output_type": "display_data",
          "data": {
            "image/png": "[encoded data removed]",
            "text/plain": [
              "<Figure size 432x288 with 1 Axes>"
            ]
          },
          "metadata": {
            "needs_background": "light"
          }
        }
      ]
    },
    {
      "cell_type": "code",
      "metadata": {
        "id": "5UOplPxS8PPI",
        "outputId": "11c8fd4f-ac6e-4fd5-b2e8-e6afc7d88024",
        "colab": {
          "base_uri": "https://localhost:8080/"
        }
      },
      "source": [
        "model.predict(images_train[0].reshape(-1,28,28))\n",
        "\n"
      ],
      "execution_count": 15,
      "outputs": [
        {
          "output_type": "execute_result",
          "data": {
            "text/plain": [
              "array([[5.1169712e-07, 3.1399807e-07, 2.0227046e-05, 1.9057885e-02,\n",
              "        2.1386530e-10, 9.8090875e-01, 4.2894914e-09, 1.0401401e-05,\n",
              "        5.0983616e-08, 1.8165424e-06]], dtype=float32)"
            ]
          },
          "metadata": {},
          "execution_count": 15
        }
      ]
    },
    {
      "cell_type": "markdown",
      "metadata": {
        "id": "ZKQ7lTfIwkJi"
      },
      "source": [
        "## **Configuring Models for Training**\n",
        "\n",
        "\n",
        "There are many ways to configure a model to get the best performance and it often relies on a little trial and error. The following code snippets shows a couple of examples ofconfiguring a model for training:\n",
        "\n",
        "\n",
        "\n",
        "```\n",
        "# Configure a model for mean-squared error regression.\n",
        "model.compile(optimizer=tf.train.AdamOptimizer(0.01),\n",
        "              loss='mse',# mean squared error\n",
        "              metrics=['mae'])# mean absolute error\n",
        "\n",
        "# Configure a model for categorical classification.\n",
        "model.compile(optimizer=tf.train.RMSPropOptimizer(0.01),\n",
        "              loss=tf.keras.losses.categorical_crossentropy,\n",
        "              metrics=[tf.keras.metrics.categorical_accuracy])\n",
        "```\n",
        "\n",
        "## **Exercises**\n",
        "### **These problems are ALL or NONE. No partial credit on either exercise.**\n",
        "### **Exercise 1 (20 points)**\n",
        "\n",
        "Build a simple tf.keras neural network(one input, hidden and output layer) to implement an OR gate. The hidden and output layer should consist of a single neuron. The **output activation function should be a sigmoid**. You should solve this as a complete end-to-end machine learning problem including all steps in the workflow:\n",
        "\n",
        "\n",
        "*   Create the training data (features and labels)\n",
        "*   Build and stack the neural networks layers to create model\n",
        "*   Select loss function and optimizer to assess the prediction error\n",
        "*   Compile the model\n",
        "*   Show model archtecture\n",
        "*   Train the model\n",
        "*   Use the model's history to plot the loss and accuracy during training\n",
        "*   Check the model's prediction accuracy with test data"
      ]
    },
    {
      "cell_type": "code",
      "metadata": {
        "id": "6JUMkFkC6znc",
        "outputId": "252f4c8a-1741-404a-dc91-f9f115a6efaf",
        "colab": {
          "base_uri": "https://localhost:8080/",
          "height": 678
        }
      },
      "source": [
        "import tensorflow as tf\n",
        "import numpy as np\n",
        "import matplotlib.pyplot as plt\n",
        "\n",
        "\n",
        "# Create training dataset  \n",
        "x_train = np.array([[0,0], [0,1], [1,0], [1,1]], dtype='float')\n",
        "\n",
        "# Create training labels \n",
        "y_train = np.array([[0], [1], [1], [1] ], dtype = 'float')\n",
        "\n",
        "# model has an input layer and a hidden and output layer, each with one neuron (units)\n",
        "model = tf.keras.models.Sequential([\n",
        "        tf.keras.layers.Dense(units = 10 , input_shape = (2,)),\n",
        "        tf.keras.layers.Dense(1, activation= 'sigmoid')\n",
        "])\n",
        "\n",
        "#compile the model\n",
        "learning_rate = 0.1\n",
        "model.compile(\n",
        "    optimizer = tf.keras.optimizers.RMSprop(lr = learning_rate),\n",
        "    loss = tf.keras.losses.binary_crossentropy,\n",
        "    metrics = ['accuracy']\n",
        ")\n",
        "\n",
        "#show model architecture\n",
        "model.summary()\n",
        "\n",
        "history = model.fit(x_train, y_train, epochs= 100, verbose = 0)\n",
        "\n",
        "#plot the loss\n",
        "plt.xlabel('epoch')\n",
        "plt.ylabel(\"loss\")\n",
        "plt.plot(history.history['loss'])\n",
        "plt.show()\n",
        "\n",
        "\n",
        "test_set = [[0,0], [0,1], [1,0], [1,1]]\n",
        "\n",
        "print('The model predicts for the 4 inputs \\n', model.predict(test_set))\n",
        "\n",
        "print('\\nThe expected values are: [0] for [0,0] and [1] for [0,1], [1,0], and [1,1].')\n",
        "print('The model predicted correctly for all testing data.')"
      ],
      "execution_count": 16,
      "outputs": [
        {
          "output_type": "stream",
          "name": "stderr",
          "text": [
            "/usr/local/lib/python3.7/dist-packages/keras/optimizer_v2/rmsprop.py:130: UserWarning: The `lr` argument is deprecated, use `learning_rate` instead.\n",
            "  super(RMSprop, self).__init__(name, **kwargs)\n"
          ]
        },
        {
          "output_type": "stream",
          "name": "stdout",
          "text": [
            "Model: \"sequential_4\"\n",
            "_________________________________________________________________\n",
            " Layer (type)                Output Shape              Param #   \n",
            "=================================================================\n",
            " dense_9 (Dense)             (None, 10)                30        \n",
            "                                                                 \n",
            " dense_10 (Dense)            (None, 1)                 11        \n",
            "                                                                 \n",
            "=================================================================\n",
            "Total params: 41\n",
            "Trainable params: 41\n",
            "Non-trainable params: 0\n",
            "_________________________________________________________________\n"
          ]
        },
        {
          "output_type": "display_data",
          "data": {
            "image/png": "[encoded data removed]",
            "text/plain": [
              "<Figure size 432x288 with 1 Axes>"
            ]
          },
          "metadata": {
            "needs_background": "light"
          }
        },
        {
          "output_type": "stream",
          "name": "stdout",
          "text": [
            "The model predicts for the 4 inputs \n",
            " [[3.520011e-05]\n",
            " [9.999883e-01]\n",
            " [9.999882e-01]\n",
            " [1.000000e+00]]\n",
            "\n",
            "The expected values are: [0] for [0,0] and [1] for [0,1], [1,0], and [1,1].\n",
            "The model predicted correctly for all testing data.\n"
          ]
        }
      ]
    },
    {
      "cell_type": "markdown",
      "metadata": {
        "id": "QxkYYVZvx-lk"
      },
      "source": [
        "### **Exercise 2 (15 pts)**\n",
        "\n",
        "Rebuild the model from Exercise 1 by changing the **output activation function to a softmax**. You may also need to modify/change other parameters, optimizers and loss functions. Give a proper interpretation of your model's predictions. **Do all of the work here, including your imports, and, in not more than two cells**."
      ]
    },
    {
      "cell_type": "code",
      "metadata": {
        "id": "a0JYY20N8xc4",
        "outputId": "6aefe15e-57d4-4cc9-b3ca-84ab25355f50",
        "colab": {
          "base_uri": "https://localhost:8080/"
        }
      },
      "source": [
        "import tensorflow as tf\n",
        "import numpy as np\n",
        "\n",
        "# Create training dataset  \n",
        "x_train = np.array([[0,0], [0,1], [1,0], [1,1]], dtype='float')\n",
        "\n",
        "# Create training labels \n",
        "y_train = np.array([[0], [1], [1], [1] ], dtype = 'float')\n",
        "\n",
        "# model has an input layer and a hidden and output layer, each with one neuron (units)\n",
        "model = tf.keras.models.Sequential([\n",
        "        tf.keras.layers.Dense(units = 10 , input_shape = (2,)),\n",
        "        tf.keras.layers.Dense(1, activation= 'softmax')\n",
        "])\n",
        "\n",
        "#compile the model\n",
        "learning_rate = 0.1\n",
        "model.compile(\n",
        "    optimizer = tf.keras.optimizers.RMSprop(lr = learning_rate),\n",
        "    loss = tf.keras.losses.binary_crossentropy,\n",
        "    metrics = ['accuracy']\n",
        ")\n",
        "\n",
        "#show model architecture\n",
        "model.summary()\n",
        "\n",
        "history = model.fit(x_train, y_train, epochs= 1000, verbose = 0)\n",
        "\n",
        "test_set = [[0,0], [0,1],[1,0] , [1,1]]\n",
        "\n",
        "print('The model predicts for the 4 inputs \\n', model.predict(test_set))\n",
        "\n",
        "print('\\nThe expected values are: [0] for [0,0] and [1] for [0,1], [1,0], and [1,1].')\n",
        "print('The model did not predict correctly for all testing data.  The model predicted correctly for [0,1], [1,0], and [1,1].')"
      ],
      "execution_count": 17,
      "outputs": [
        {
          "output_type": "stream",
          "name": "stderr",
          "text": [
            "/usr/local/lib/python3.7/dist-packages/keras/optimizer_v2/rmsprop.py:130: UserWarning: The `lr` argument is deprecated, use `learning_rate` instead.\n",
            "  super(RMSprop, self).__init__(name, **kwargs)\n"
          ]
        },
        {
          "output_type": "stream",
          "name": "stdout",
          "text": [
            "Model: \"sequential_5\"\n",
            "_________________________________________________________________\n",
            " Layer (type)                Output Shape              Param #   \n",
            "=================================================================\n",
            " dense_11 (Dense)            (None, 10)                30        \n",
            "                                                                 \n",
            " dense_12 (Dense)            (None, 1)                 11        \n",
            "                                                                 \n",
            "=================================================================\n",
            "Total params: 41\n",
            "Trainable params: 41\n",
            "Non-trainable params: 0\n",
            "_________________________________________________________________\n",
            "WARNING:tensorflow:5 out of the last 6 calls to <function Model.make_predict_function.<locals>.predict_function at 0x7f11353c10e0> triggered tf.function retracing. Tracing is expensive and the excessive number of tracings could be due to (1) creating @tf.function repeatedly in a loop, (2) passing tensors with different shapes, (3) passing Python objects instead of tensors. For (1), please define your @tf.function outside of the loop. For (2), @tf.function has experimental_relax_shapes=True option that relaxes argument shapes that can avoid unnecessary retracing. For (3), please refer to https://www.tensorflow.org/guide/function#controlling_retracing and https://www.tensorflow.org/api_docs/python/tf/function for  more details.\n",
            "The model predicts for the 4 inputs \n",
            " [[1.]\n",
            " [1.]\n",
            " [1.]\n",
            " [1.]]\n",
            "\n",
            "The expected values are: [0] for [0,0] and [1] for [0,1], [1,0], and [1,1].\n",
            "The model did not predict correctly for all testing data.  The model predicted correctly for [0,1], [1,0], and [1,1].\n"
          ]
        }
      ]
    },
    {
      "cell_type": "markdown",
      "metadata": {
        "id": "ne5cxTwoQtVp"
      },
      "source": [
        "**Even after trying different parameters for the compilation of the model, I was never able to get the model to correctly predict for the first input of the testing set: [0,0].  The model always predicted the value 1 for these values, but in an or gate the values [0,0] would correlate to an output of 0.**"
      ]
    }
  ]
}